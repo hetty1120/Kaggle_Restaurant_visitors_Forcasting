{
 "cells": [
  {
   "cell_type": "code",
   "execution_count": 3,
   "metadata": {
    "collapsed": true
   },
   "outputs": [],
   "source": [
    "import numpy as np\n",
    "import pandas as pd\n",
    "from datetime import date, timedelta\n",
    "from sklearn.model_selection import train_test_split\n",
    "from sklearn import preprocessing"
   ]
  },
  {
   "cell_type": "code",
   "execution_count": 4,
   "metadata": {},
   "outputs": [
    {
     "name": "stdout",
     "output_type": "stream",
     "text": [
      "Checking whether there is an H2O instance running at http://localhost:54321..... not found.\n",
      "Attempting to start a local H2O server...\n",
      "  Java Version: java version \"1.8.0_161\"; Java(TM) SE Runtime Environment (build 1.8.0_161-b12); Java HotSpot(TM) 64-Bit Server VM (build 25.161-b12, mixed mode)\n",
      "  Starting server from /Users/hetty/anaconda/lib/python3.6/site-packages/h2o/backend/bin/h2o.jar\n",
      "  Ice root: /var/folders/7l/m1x60k3109j9nxx82v_nykc80000gn/T/tmpix6mk0ds\n",
      "  JVM stdout: /var/folders/7l/m1x60k3109j9nxx82v_nykc80000gn/T/tmpix6mk0ds/h2o_hetty_started_from_python.out\n",
      "  JVM stderr: /var/folders/7l/m1x60k3109j9nxx82v_nykc80000gn/T/tmpix6mk0ds/h2o_hetty_started_from_python.err\n",
      "  Server is running at http://127.0.0.1:54321\n",
      "Connecting to H2O server at http://127.0.0.1:54321... successful.\n"
     ]
    },
    {
     "data": {
      "text/html": [
       "<div style=\"overflow:auto\"><table style=\"width:50%\"><tr><td>H2O cluster uptime:</td>\n",
       "<td>08 secs</td></tr>\n",
       "<tr><td>H2O cluster version:</td>\n",
       "<td>3.16.0.4</td></tr>\n",
       "<tr><td>H2O cluster version age:</td>\n",
       "<td>21 days, 19 hours and 52 minutes </td></tr>\n",
       "<tr><td>H2O cluster name:</td>\n",
       "<td>H2O_from_python_hetty_iiic0f</td></tr>\n",
       "<tr><td>H2O cluster total nodes:</td>\n",
       "<td>1</td></tr>\n",
       "<tr><td>H2O cluster free memory:</td>\n",
       "<td>1.778 Gb</td></tr>\n",
       "<tr><td>H2O cluster total cores:</td>\n",
       "<td>0</td></tr>\n",
       "<tr><td>H2O cluster allowed cores:</td>\n",
       "<td>0</td></tr>\n",
       "<tr><td>H2O cluster status:</td>\n",
       "<td>accepting new members, healthy</td></tr>\n",
       "<tr><td>H2O connection url:</td>\n",
       "<td>http://127.0.0.1:54321</td></tr>\n",
       "<tr><td>H2O connection proxy:</td>\n",
       "<td>None</td></tr>\n",
       "<tr><td>H2O internal security:</td>\n",
       "<td>False</td></tr>\n",
       "<tr><td>H2O API Extensions:</td>\n",
       "<td>XGBoost, Algos, AutoML, Core V3, Core V4</td></tr>\n",
       "<tr><td>Python version:</td>\n",
       "<td>3.6.3 final</td></tr></table></div>"
      ],
      "text/plain": [
       "--------------------------  ----------------------------------------\n",
       "H2O cluster uptime:         08 secs\n",
       "H2O cluster version:        3.16.0.4\n",
       "H2O cluster version age:    21 days, 19 hours and 52 minutes\n",
       "H2O cluster name:           H2O_from_python_hetty_iiic0f\n",
       "H2O cluster total nodes:    1\n",
       "H2O cluster free memory:    1.778 Gb\n",
       "H2O cluster total cores:    0\n",
       "H2O cluster allowed cores:  0\n",
       "H2O cluster status:         accepting new members, healthy\n",
       "H2O connection url:         http://127.0.0.1:54321\n",
       "H2O connection proxy:\n",
       "H2O internal security:      False\n",
       "H2O API Extensions:         XGBoost, Algos, AutoML, Core V3, Core V4\n",
       "Python version:             3.6.3 final\n",
       "--------------------------  ----------------------------------------"
      ]
     },
     "metadata": {},
     "output_type": "display_data"
    }
   ],
   "source": [
    "import h2o\n",
    "from h2o.automl import H2OAutoML\n",
    "h2o.init()"
   ]
  },
  {
   "cell_type": "code",
   "execution_count": 5,
   "metadata": {
    "code_folding": [],
    "collapsed": true
   },
   "outputs": [],
   "source": [
    "data = {\n",
    "    'tra': pd.read_csv('air_visit_data.csv'),\n",
    "    'as': pd.read_csv('air_store_info.csv'),\n",
    "    'hs': pd.read_csv('hpg_store_info.csv'),\n",
    "    'ar': pd.read_csv('air_reserve.csv'),\n",
    "    'hr': pd.read_csv('hpg_reserve.csv'),\n",
    "    'id': pd.read_csv('store_id_relation.csv'),\n",
    "    'tes': pd.read_csv('sample_submission.csv'),\n",
    "    'hol': pd.read_csv('date_info.csv').rename(columns={'calendar_date':'visit_date'}),\n",
    "    'before': pd.read_csv('before_42D_data.csv')\n",
    "    }"
   ]
  },
  {
   "cell_type": "code",
   "execution_count": 6,
   "metadata": {
    "collapsed": true
   },
   "outputs": [],
   "source": [
    "data['hr'] = pd.merge(data['hr'], data['id'], how='inner', on=['hpg_store_id'])\n",
    "data['hr'] = pd.merge(data['hr'], data['as'], how='left', on=['air_store_id'])\n",
    "data['ar'] = pd.merge(data['ar'], data['as'], how='left', on=['air_store_id'])"
   ]
  },
  {
   "cell_type": "code",
   "execution_count": 7,
   "metadata": {
    "collapsed": true
   },
   "outputs": [],
   "source": [
    "tmp_area = {}\n",
    "tmp_genre = {}\n",
    "\n",
    "for df in ['ar','hr']:\n",
    "    data[df]['visit_datetime'] = pd.to_datetime(data[df]['visit_datetime'])\n",
    "    data[df]['visit_datetime'] = data[df]['visit_datetime'].dt.date\n",
    "    data[df]['reserve_datetime'] = pd.to_datetime(data[df]['reserve_datetime'])\n",
    "    data[df]['reserve_datetime'] = data[df]['reserve_datetime'].dt.date\n",
    "    data[df]['v_r_diff'] = data[df].apply(\n",
    "        lambda r: (r['visit_datetime'] - r['reserve_datetime']).days, axis=1)\n",
    "    tmp_area[df] = data[df].groupby(\n",
    "        ['air_area_name','visit_datetime'],as_index=False)['reserve_visitors'].median().rename(\n",
    "        columns={'visit_datetime':'visit_date','reserve_visitors':'area_reserve_visitors'})\n",
    "    tmp_genre[df] = data[df].groupby(\n",
    "        ['air_genre_name','visit_datetime'],as_index=False)['reserve_visitors'].median().rename(\n",
    "        columns={'visit_datetime':'visit_date','reserve_visitors':'genre_reserve_visitors'})\n",
    "    data[df] = data[df].groupby(\n",
    "        ['air_store_id','visit_datetime'], \n",
    "        as_index=False)['reserve_visitors'].sum().rename(columns={'visit_datetime':'visit_date'})    "
   ]
  },
  {
   "cell_type": "code",
   "execution_count": 9,
   "metadata": {
    "collapsed": true
   },
   "outputs": [],
   "source": [
    "data['tra']['visit_date'] = pd.to_datetime(data['tra']['visit_date'])\n",
    "data['tra']['year'] = data['tra']['visit_date'].dt.year\n",
    "data['tra']['month'] = data['tra']['visit_date'].dt.month\n",
    "data['tra']['week'] = data['tra']['visit_date'].dt.week\n",
    "data['tra']['dow'] = data['tra']['visit_date'].dt.dayofweek\n",
    "data['tra']['visit_date'] = data['tra']['visit_date'].dt.date"
   ]
  },
  {
   "cell_type": "code",
   "execution_count": 10,
   "metadata": {
    "collapsed": true
   },
   "outputs": [],
   "source": [
    "data['tes']['visit_date'] = data['tes']['id'].map(\n",
    "    lambda x: str(x).split('_')[2])\n",
    "data['tes']['air_store_id'] = data['tes']['id'].map(\n",
    "    lambda x: '_'.join(x.split('_')[:2]))\n",
    "data['tes']['visit_date'] = pd.to_datetime(data['tes']['visit_date'])\n",
    "data['tes']['year'] = data['tes']['visit_date'].dt.year\n",
    "data['tes']['month'] = data['tes']['visit_date'].dt.month\n",
    "data['tes']['week'] = data['tes']['visit_date'].dt.week\n",
    "data['tes']['dow'] = data['tes']['visit_date'].dt.dayofweek\n",
    "data['tes']['visit_date'] = data['tes']['visit_date'].dt.date"
   ]
  },
  {
   "cell_type": "code",
   "execution_count": 12,
   "metadata": {
    "collapsed": true
   },
   "outputs": [],
   "source": [
    "tmp = data['tra'].groupby(\n",
    "    ['air_store_id','dow'],as_index=False)['visitors'].min().rename(columns={\n",
    "    'visitors':'min_visitors'})\n",
    "data['tra'] = pd.merge(data['tra'], tmp, how='left', on=['air_store_id','dow'])\n",
    "data['tes'] = pd.merge(data['tes'], tmp, how='left', on=['air_store_id','dow'])"
   ]
  },
  {
   "cell_type": "code",
   "execution_count": 13,
   "metadata": {
    "collapsed": true
   },
   "outputs": [],
   "source": [
    "tmp = data['tra'].groupby(\n",
    "    ['air_store_id','dow'],as_index=False)['visitors'].max().rename(columns={\n",
    "    'visitors':'max_visitors'})\n",
    "data['tra'] = pd.merge(data['tra'], tmp, how='left', on=['air_store_id','dow'])\n",
    "data['tes'] = pd.merge(data['tes'], tmp, how='left', on=['air_store_id','dow'])"
   ]
  },
  {
   "cell_type": "code",
   "execution_count": 14,
   "metadata": {
    "collapsed": true
   },
   "outputs": [],
   "source": [
    "tmp = data['tra'].groupby(\n",
    "    ['air_store_id','dow'],as_index=False)['visitors'].mean().rename(columns={\n",
    "    'visitors':'mean_visitors'})\n",
    "data['tra'] = pd.merge(data['tra'], tmp, how='left', on=['air_store_id','dow'])\n",
    "data['tes'] = pd.merge(data['tes'], tmp, how='left', on=['air_store_id','dow'])"
   ]
  },
  {
   "cell_type": "code",
   "execution_count": 15,
   "metadata": {
    "collapsed": true
   },
   "outputs": [],
   "source": [
    "tmp = data['tra'].groupby(\n",
    "    ['air_store_id','dow'],as_index=False)['visitors'].median().rename(columns={\n",
    "    'visitors':'median_visitors'})\n",
    "data['tra'] = pd.merge(data['tra'], tmp, how='left', on=['air_store_id','dow'])\n",
    "data['tes'] = pd.merge(data['tes'], tmp, how='left', on=['air_store_id','dow'])"
   ]
  },
  {
   "cell_type": "code",
   "execution_count": 16,
   "metadata": {
    "collapsed": true
   },
   "outputs": [],
   "source": [
    "tmp = data['tra'].groupby(\n",
    "    ['air_store_id','dow'],as_index=False)['visitors'].count().rename(columns={\n",
    "    'visitors':'count_visitors'})\n",
    "data['tra'] = pd.merge(data['tra'], tmp, how='left', on=['air_store_id','dow'])\n",
    "data['tes'] = pd.merge(data['tes'], tmp, how='left', on=['air_store_id','dow'])"
   ]
  },
  {
   "cell_type": "code",
   "execution_count": 17,
   "metadata": {
    "collapsed": true
   },
   "outputs": [],
   "source": [
    "data['before']['visit_date'] = pd.to_datetime(data['before']['visit_date'])\n",
    "data['before']['visit_date'] = data['before']['visit_date'].dt.date\n",
    "data['tra'] = pd.merge(data['tra'], data['before'], how='left', on=['air_store_id','visit_date'])\n",
    "data['tes'] = pd.merge(data['tes'], data['before'], how='left', on=['air_store_id','visit_date'])"
   ]
  },
  {
   "cell_type": "code",
   "execution_count": 18,
   "metadata": {
    "collapsed": true
   },
   "outputs": [],
   "source": [
    "data['tra'] = pd.merge(data['tra'], data['as'], how='left', on=['air_store_id'])\n",
    "data['tes'] = pd.merge(data['tes'], data['as'], how='left', on=['air_store_id'])"
   ]
  },
  {
   "cell_type": "code",
   "execution_count": 19,
   "metadata": {
    "collapsed": true
   },
   "outputs": [],
   "source": [
    "del data['hol']['day_of_week']"
   ]
  },
  {
   "cell_type": "code",
   "execution_count": 20,
   "metadata": {
    "collapsed": true
   },
   "outputs": [],
   "source": [
    "data['hol']['visit_date'] = pd.to_datetime(data['hol']['visit_date'])\n",
    "data['hol']['visit_date'] = data['hol']['visit_date'].dt.date"
   ]
  },
  {
   "cell_type": "code",
   "execution_count": 21,
   "metadata": {
    "collapsed": true
   },
   "outputs": [],
   "source": [
    "data['tra'] = pd.merge(data['tra'], data['hol'], how='left', on=['visit_date'])\n",
    "data['tes'] = pd.merge(data['tes'], data['hol'], how='left', on=['visit_date'])"
   ]
  },
  {
   "cell_type": "code",
   "execution_count": 22,
   "metadata": {
    "collapsed": true
   },
   "outputs": [],
   "source": [
    "train_r = pd.merge(data['ar'], data['hr'], \n",
    "                   how='outer', on=['air_store_id','visit_date']).fillna(0)\n",
    "train_r['reserve_visitor'] = train_r['reserve_visitors_x'] + train_r['reserve_visitors_y']"
   ]
  },
  {
   "cell_type": "code",
   "execution_count": 23,
   "metadata": {
    "collapsed": true
   },
   "outputs": [],
   "source": [
    "data['tra'].dropna(inplace=True)\n",
    "data['tes'] = data['tes'].fillna(0)"
   ]
  },
  {
   "cell_type": "code",
   "execution_count": 24,
   "metadata": {
    "collapsed": true
   },
   "outputs": [],
   "source": [
    "data['tra'] = pd.merge(data['tra'], train_r, \n",
    "                       how='left', on=['air_store_id','visit_date']).fillna(0)"
   ]
  },
  {
   "cell_type": "code",
   "execution_count": 25,
   "metadata": {
    "collapsed": true
   },
   "outputs": [],
   "source": [
    "data['tes'] = pd.merge(data['tes'], train_r, \n",
    "                       how='left', on=['air_store_id','visit_date']).fillna(0)"
   ]
  },
  {
   "cell_type": "code",
   "execution_count": 26,
   "metadata": {
    "collapsed": true
   },
   "outputs": [],
   "source": [
    "tmp_area = pd.merge(tmp_area['ar'], tmp_area['hr'], \n",
    "                    how='outer', on=['air_area_name','visit_date']).fillna(0)\n",
    "tmp_area['area_reserve_visitors'] = tmp_area['area_reserve_visitors_x'] + tmp_area['area_reserve_visitors_y']"
   ]
  },
  {
   "cell_type": "code",
   "execution_count": 27,
   "metadata": {
    "collapsed": true
   },
   "outputs": [],
   "source": [
    "del tmp_area['area_reserve_visitors_x']\n",
    "del tmp_area['area_reserve_visitors_y']"
   ]
  },
  {
   "cell_type": "code",
   "execution_count": 28,
   "metadata": {
    "collapsed": true
   },
   "outputs": [],
   "source": [
    "tmp_genre = pd.merge(tmp_genre['ar'], tmp_genre['hr'], \n",
    "                     how='outer', on=['air_genre_name','visit_date']).fillna(0)"
   ]
  },
  {
   "cell_type": "code",
   "execution_count": 29,
   "metadata": {
    "collapsed": true
   },
   "outputs": [],
   "source": [
    "tmp_genre['genre_reserve_visitors'] = tmp_genre['genre_reserve_visitors_x'] + tmp_genre['genre_reserve_visitors_y']\n",
    "del tmp_genre['genre_reserve_visitors_x']\n",
    "del tmp_genre['genre_reserve_visitors_y']"
   ]
  },
  {
   "cell_type": "code",
   "execution_count": 32,
   "metadata": {
    "collapsed": true
   },
   "outputs": [],
   "source": [
    "data['tra'] = pd.merge(data['tra'], tmp_area, \n",
    "                       how='left', on=['visit_date','air_area_name']).fillna(0)\n",
    "data['tra'] = pd.merge(data['tra'], tmp_genre, \n",
    "                       how='left', on=['visit_date','air_genre_name']).fillna(0)\n",
    "data['tes'] = pd.merge(data['tes'], tmp_area, \n",
    "                       how='left', on=['visit_date','air_area_name']).fillna(0)\n",
    "data['tes'] = pd.merge(data['tes'], tmp_genre, \n",
    "                       how='left', on=['visit_date','air_genre_name']).fillna(0)"
   ]
  },
  {
   "cell_type": "code",
   "execution_count": 33,
   "metadata": {
    "collapsed": true
   },
   "outputs": [],
   "source": [
    "genre_mapping = {label:idx+1 for idx,label in enumerate(np.unique(data['as']['air_genre_name']))}\n",
    "area_mapping = {label:idx+1 for idx,label in enumerate(np.unique(data['as']['air_area_name']))}\n",
    "\n",
    "#!!!!categorical varibales: family, class, cluster\n",
    "data['tra']['air_genre_name'] = data['tra']['air_genre_name'].map(genre_mapping)\n",
    "data['tra']['air_area_name'] = data['tra']['air_area_name'].map(area_mapping)\n",
    "data['tes']['air_genre_name'] = data['tes']['air_genre_name'].map(genre_mapping)\n",
    "data['tes']['air_area_name'] = data['tes']['air_area_name'].map(area_mapping)"
   ]
  },
  {
   "cell_type": "code",
   "execution_count": 34,
   "metadata": {
    "collapsed": true
   },
   "outputs": [],
   "source": [
    "train_all = data['tra'].copy()\n",
    "test_all = data['tes'].copy()"
   ]
  },
  {
   "cell_type": "code",
   "execution_count": 35,
   "metadata": {},
   "outputs": [
    {
     "data": {
      "text/plain": [
       "Index(['air_store_id', 'visit_date', 'visitors', 'year', 'month', 'week',\n",
       "       'dow', 'min_visitors', 'max_visitors', 'mean_visitors',\n",
       "       'median_visitors', 'count_visitors', 'before_mean_visit',\n",
       "       'before_min_visit', 'before_max_visit', 'before_median_visit',\n",
       "       'air_genre_name', 'air_area_name', 'latitude', 'longitude',\n",
       "       'holiday_flg', 'reserve_visitors_x', 'reserve_visitors_y',\n",
       "       'reserve_visitor', 'area_reserve_visitors', 'genre_reserve_visitors'],\n",
       "      dtype='object')"
      ]
     },
     "execution_count": 35,
     "metadata": {},
     "output_type": "execute_result"
    }
   ],
   "source": [
    "train_all.columns"
   ]
  },
  {
   "cell_type": "code",
   "execution_count": 36,
   "metadata": {},
   "outputs": [
    {
     "data": {
      "text/plain": [
       "Index(['id', 'visitors', 'visit_date', 'air_store_id', 'year', 'month', 'week',\n",
       "       'dow', 'min_visitors', 'max_visitors', 'mean_visitors',\n",
       "       'median_visitors', 'count_visitors', 'before_mean_visit',\n",
       "       'before_min_visit', 'before_max_visit', 'before_median_visit',\n",
       "       'air_genre_name', 'air_area_name', 'latitude', 'longitude',\n",
       "       'holiday_flg', 'reserve_visitors_x', 'reserve_visitors_y',\n",
       "       'reserve_visitor', 'area_reserve_visitors', 'genre_reserve_visitors'],\n",
       "      dtype='object')"
      ]
     },
     "execution_count": 36,
     "metadata": {},
     "output_type": "execute_result"
    }
   ],
   "source": [
    "test_all.columns"
   ]
  },
  {
   "cell_type": "code",
   "execution_count": 37,
   "metadata": {
    "collapsed": true
   },
   "outputs": [],
   "source": [
    "change_value = ['visitors','min_visitors','max_visitors',\n",
    "                'mean_visitors','median_visitors','count_visitors',\n",
    "                'before_mean_visit','before_min_visit','before_max_visit',\n",
    "                'before_median_visit','reserve_visitor','reserve_visitors_x',\n",
    "                'reserve_visitors_y','area_reserve_visitors','genre_reserve_visitors']\n",
    "\n",
    "for name in change_value:\n",
    "    train_all[name] = train_all[name].apply(lambda r:np.log1p(float(r)))\n",
    "    test_all[name] = test_all[name].apply(lambda r:np.log1p(float(r)))"
   ]
  },
  {
   "cell_type": "code",
   "execution_count": 38,
   "metadata": {},
   "outputs": [
    {
     "name": "stdout",
     "output_type": "stream",
     "text": [
      "Parse progress: |█████████████████████████████████████████████████████████| 100%\n"
     ]
    }
   ],
   "source": [
    "htrain = h2o.H2OFrame(train_all)"
   ]
  },
  {
   "cell_type": "code",
   "execution_count": 42,
   "metadata": {},
   "outputs": [
    {
     "name": "stdout",
     "output_type": "stream",
     "text": [
      "Parse progress: |█████████████████████████████████████████████████████████| 100%\n"
     ]
    }
   ],
   "source": [
    "htest = h2o.H2OFrame(test_all)"
   ]
  },
  {
   "cell_type": "code",
   "execution_count": 43,
   "metadata": {
    "collapsed": true
   },
   "outputs": [],
   "source": [
    "htrain.drop(['air_store_id','visit_date','visitors'])\n",
    "htest.drop(['id','visitors','visit_date','air_store_id'])\n",
    "x = htrain.columns\n",
    "y = 'visitors'\n",
    "x.remove(y)"
   ]
  },
  {
   "cell_type": "code",
   "execution_count": 49,
   "metadata": {
    "collapsed": true
   },
   "outputs": [],
   "source": [
    "def RMSLE(y_,pred):\n",
    "    return metrics.mean_squared_error(y_,pred)**0.5"
   ]
  },
  {
   "cell_type": "code",
   "execution_count": 45,
   "metadata": {},
   "outputs": [
    {
     "name": "stdout",
     "output_type": "stream",
     "text": [
      "AutoML progress: |████████████████████████████████████████████████████████| 100%\n",
      "Parse progress: |█████████████████████████████████████████████████████████| 100%\n"
     ]
    }
   ],
   "source": [
    "aml = H2OAutoML(max_runtime_secs=3000)\n",
    "aml.train(x=x,y=y,training_frame=htrain,leaderboard_frame=htest)"
   ]
  },
  {
   "cell_type": "code",
   "execution_count": 51,
   "metadata": {},
   "outputs": [
    {
     "name": "stdout",
     "output_type": "stream",
     "text": [
      "drf prediction progress: |████████████████████████████████████████████████| 100%\n"
     ]
    },
    {
     "ename": "NameError",
     "evalue": "name 'metrics' is not defined",
     "output_type": "error",
     "traceback": [
      "\u001b[0;31m---------------------------------------------------------------------------\u001b[0m",
      "\u001b[0;31mNameError\u001b[0m                                 Traceback (most recent call last)",
      "\u001b[0;32m<ipython-input-51-83383081816c>\u001b[0m in \u001b[0;36m<module>\u001b[0;34m()\u001b[0m\n\u001b[1;32m      2\u001b[0m \u001b[0mpreds\u001b[0m \u001b[0;34m=\u001b[0m \u001b[0maml\u001b[0m\u001b[0;34m.\u001b[0m\u001b[0mleader\u001b[0m\u001b[0;34m.\u001b[0m\u001b[0mpredict\u001b[0m\u001b[0;34m(\u001b[0m\u001b[0mhtrain\u001b[0m\u001b[0;34m)\u001b[0m\u001b[0;34m\u001b[0m\u001b[0m\n\u001b[1;32m      3\u001b[0m \u001b[0mpreds\u001b[0m \u001b[0;34m=\u001b[0m \u001b[0mpreds\u001b[0m\u001b[0;34m.\u001b[0m\u001b[0mas_data_frame\u001b[0m\u001b[0;34m(\u001b[0m\u001b[0;34m)\u001b[0m\u001b[0;34m\u001b[0m\u001b[0m\n\u001b[0;32m----> 4\u001b[0;31m \u001b[0mprint\u001b[0m\u001b[0;34m(\u001b[0m\u001b[0;34m'RMSLE H2O automl leader: '\u001b[0m\u001b[0;34m,\u001b[0m \u001b[0mRMSLE\u001b[0m\u001b[0;34m(\u001b[0m\u001b[0mtrain_all\u001b[0m\u001b[0;34m[\u001b[0m\u001b[0;34m'visitors'\u001b[0m\u001b[0;34m]\u001b[0m\u001b[0;34m.\u001b[0m\u001b[0mvalues\u001b[0m\u001b[0;34m,\u001b[0m \u001b[0mpreds\u001b[0m\u001b[0;34m)\u001b[0m\u001b[0;34m)\u001b[0m\u001b[0;34m\u001b[0m\u001b[0m\n\u001b[0m",
      "\u001b[0;32m<ipython-input-49-9a3029131ab9>\u001b[0m in \u001b[0;36mRMSLE\u001b[0;34m(y_, pred)\u001b[0m\n\u001b[1;32m      1\u001b[0m \u001b[0;32mdef\u001b[0m \u001b[0mRMSLE\u001b[0m\u001b[0;34m(\u001b[0m\u001b[0my_\u001b[0m\u001b[0;34m,\u001b[0m\u001b[0mpred\u001b[0m\u001b[0;34m)\u001b[0m\u001b[0;34m:\u001b[0m\u001b[0;34m\u001b[0m\u001b[0m\n\u001b[0;32m----> 2\u001b[0;31m     \u001b[0;32mreturn\u001b[0m \u001b[0mmetrics\u001b[0m\u001b[0;34m.\u001b[0m\u001b[0mmean_squared_error\u001b[0m\u001b[0;34m(\u001b[0m\u001b[0my_\u001b[0m\u001b[0;34m,\u001b[0m\u001b[0mpred\u001b[0m\u001b[0;34m)\u001b[0m\u001b[0;34m**\u001b[0m\u001b[0;36m0.5\u001b[0m\u001b[0;34m\u001b[0m\u001b[0m\n\u001b[0m",
      "\u001b[0;31mNameError\u001b[0m: name 'metrics' is not defined"
     ]
    }
   ],
   "source": [
    "htrain.drop(['visitors'])\n",
    "preds = aml.leader.predict(htrain)\n",
    "preds = preds.as_data_frame()\n",
    "print('RMSLE H2O automl leader: ', RMSLE(train_all['visitors'].values, preds))"
   ]
  },
  {
   "cell_type": "code",
   "execution_count": 52,
   "metadata": {},
   "outputs": [
    {
     "name": "stdout",
     "output_type": "stream",
     "text": [
      "drf prediction progress: |████████████████████████████████████████████████| 100%\n"
     ]
    }
   ],
   "source": [
    "preds = aml.leader.predict(htest)\n",
    "preds = preds.as_data_frame()\n",
    "test_all['visitors']= preds\n",
    "test_all['visitors']=np.expm1(test_all['visitors'])"
   ]
  },
  {
   "cell_type": "code",
   "execution_count": 53,
   "metadata": {
    "collapsed": true
   },
   "outputs": [],
   "source": [
    "test_all[['id','visitors']].to_csv('last!!.csv', index=False, float_format='%.3f')"
   ]
  },
  {
   "cell_type": "code",
   "execution_count": 54,
   "metadata": {},
   "outputs": [
    {
     "data": {
      "text/plain": [
       "(32019, 27)"
      ]
     },
     "execution_count": 54,
     "metadata": {},
     "output_type": "execute_result"
    }
   ],
   "source": [
    "test_all.shape"
   ]
  },
  {
   "cell_type": "code",
   "execution_count": null,
   "metadata": {
    "collapsed": true
   },
   "outputs": [],
   "source": []
  }
 ],
 "metadata": {
  "kernelspec": {
   "display_name": "Python 3",
   "language": "python",
   "name": "python3"
  },
  "language_info": {
   "codemirror_mode": {
    "name": "ipython",
    "version": 3
   },
   "file_extension": ".py",
   "mimetype": "text/x-python",
   "name": "python",
   "nbconvert_exporter": "python",
   "pygments_lexer": "ipython3",
   "version": "3.6.3"
  },
  "toc": {
   "nav_menu": {},
   "number_sections": true,
   "sideBar": true,
   "skip_h1_title": false,
   "title_cell": "Table of Contents",
   "title_sidebar": "Contents",
   "toc_cell": false,
   "toc_position": {},
   "toc_section_display": true,
   "toc_window_display": false
  },
  "varInspector": {
   "cols": {
    "lenName": 16,
    "lenType": 16,
    "lenVar": 40
   },
   "kernels_config": {
    "python": {
     "delete_cmd_postfix": "",
     "delete_cmd_prefix": "del ",
     "library": "var_list.py",
     "varRefreshCmd": "print(var_dic_list())"
    },
    "r": {
     "delete_cmd_postfix": ") ",
     "delete_cmd_prefix": "rm(",
     "library": "var_list.r",
     "varRefreshCmd": "cat(var_dic_list()) "
    }
   },
   "position": {
    "height": "267px",
    "left": "451px",
    "right": "20px",
    "top": "153px",
    "width": "351px"
   },
   "types_to_exclude": [
    "module",
    "function",
    "builtin_function_or_method",
    "instance",
    "_Feature"
   ],
   "window_display": false
  }
 },
 "nbformat": 4,
 "nbformat_minor": 2
}
